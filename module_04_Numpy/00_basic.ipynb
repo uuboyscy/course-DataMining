{
 "cells": [
  {
   "cell_type": "code",
   "execution_count": 1,
   "id": "c5008a82",
   "metadata": {},
   "outputs": [],
   "source": [
    "import numpy as np"
   ]
  },
  {
   "cell_type": "markdown",
   "id": "d5927f3c",
   "metadata": {},
   "source": [
    "### Generate array"
   ]
  },
  {
   "cell_type": "code",
   "execution_count": 2,
   "id": "4be7352f",
   "metadata": {},
   "outputs": [
    {
     "data": {
      "text/plain": [
       "array([0., 0., 0., 0., 0.])"
      ]
     },
     "execution_count": 2,
     "metadata": {},
     "output_type": "execute_result"
    }
   ],
   "source": [
    "np.zeros(5)"
   ]
  },
  {
   "cell_type": "code",
   "execution_count": 3,
   "id": "977bbfaa",
   "metadata": {},
   "outputs": [
    {
     "data": {
      "text/plain": [
       "array([[0, 0, 0],\n",
       "       [0, 0, 0]])"
      ]
     },
     "execution_count": 3,
     "metadata": {},
     "output_type": "execute_result"
    }
   ],
   "source": [
    "np.zeros(shape=(2, 3), dtype='int')"
   ]
  },
  {
   "cell_type": "code",
   "execution_count": 4,
   "id": "8c37d981",
   "metadata": {},
   "outputs": [
    {
     "data": {
      "text/plain": [
       "array([1., 1., 1., 1., 1.])"
      ]
     },
     "execution_count": 4,
     "metadata": {},
     "output_type": "execute_result"
    }
   ],
   "source": [
    "np.ones(5)"
   ]
  },
  {
   "cell_type": "code",
   "execution_count": 5,
   "id": "45f0d9fa",
   "metadata": {},
   "outputs": [
    {
     "data": {
      "text/plain": [
       "array([[1., 1., 1., 1.],\n",
       "       [1., 1., 1., 1.],\n",
       "       [1., 1., 1., 1.]])"
      ]
     },
     "execution_count": 5,
     "metadata": {},
     "output_type": "execute_result"
    }
   ],
   "source": [
    "np.ones(shape=(3, 4), dtype='float')"
   ]
  },
  {
   "cell_type": "code",
   "execution_count": 6,
   "id": "f8e53d87",
   "metadata": {},
   "outputs": [
    {
     "data": {
      "text/plain": [
       "array([1., 1., 1., 1., 1.])"
      ]
     },
     "execution_count": 6,
     "metadata": {},
     "output_type": "execute_result"
    }
   ],
   "source": [
    "np.empty(5)"
   ]
  },
  {
   "cell_type": "code",
   "execution_count": 7,
   "id": "4c42bf0c",
   "metadata": {},
   "outputs": [
    {
     "data": {
      "text/plain": [
       "array([[                   0,                   -1,          34359738368,\n",
       "                  4294967299,                    0,                    0],\n",
       "       [                   0,                    0,                    0,\n",
       "                           0,                    0,                    0],\n",
       "       [                   0, -6148914691236517376,                    0,\n",
       "                  4294967295,                    0,           4294967296],\n",
       "       [          4295067296,                    0,                    0,\n",
       "                           0,                    0,                    0],\n",
       "       [                   0,                    0,                    0,\n",
       "                           0,                    0,                    0]])"
      ]
     },
     "execution_count": 7,
     "metadata": {},
     "output_type": "execute_result"
    }
   ],
   "source": [
    "np.empty(shape=(5, 6), dtype='int')"
   ]
  },
  {
   "cell_type": "code",
   "execution_count": 8,
   "id": "c13041e1",
   "metadata": {},
   "outputs": [
    {
     "data": {
      "text/plain": [
       "array([[0., 0., 0., 0., 0., 0.],\n",
       "       [0., 0., 0., 0., 0., 0.],\n",
       "       [0., 0., 0., 0., 0., 0.],\n",
       "       [0., 0., 0., 0., 0., 0.],\n",
       "       [0., 0., 0., 0., 0., 0.]])"
      ]
     },
     "execution_count": 8,
     "metadata": {},
     "output_type": "execute_result"
    }
   ],
   "source": [
    "np.empty(shape=(5, 6))"
   ]
  },
  {
   "cell_type": "code",
   "execution_count": 9,
   "id": "7090dbb6",
   "metadata": {},
   "outputs": [
    {
     "data": {
      "text/plain": [
       "array([[0.11141041, 0.25558343, 0.38544926],\n",
       "       [0.82979265, 0.9505502 , 0.23184524]])"
      ]
     },
     "execution_count": 9,
     "metadata": {},
     "output_type": "execute_result"
    }
   ],
   "source": [
    "np.random.rand(2, 3)"
   ]
  },
  {
   "cell_type": "code",
   "execution_count": 10,
   "id": "1f16de3d",
   "metadata": {},
   "outputs": [
    {
     "data": {
      "text/plain": [
       "array([[[8, 4, 9],\n",
       "        [5, 6, 9]]])"
      ]
     },
     "execution_count": 10,
     "metadata": {},
     "output_type": "execute_result"
    }
   ],
   "source": [
    "np.random.randint(low=3, high=10, size=(1, 2, 3), dtype=int)"
   ]
  },
  {
   "cell_type": "code",
   "execution_count": 11,
   "id": "2767de13",
   "metadata": {},
   "outputs": [
    {
     "name": "stdout",
     "output_type": "stream",
     "text": [
      "長度為3，所有值皆為0的整數陣列 [0 0 0]\n",
      "建立一個2X3，全部值皆為1的小數陣列 [[1. 1. 1.]\n",
      " [1. 1. 1.]]\n",
      "建立一個2X3，無初始值陣列 [[0.11141041 0.25558343 0.38544926]\n",
      " [0.82979265 0.9505502  0.23184524]]\n",
      "建立一個2X3X4，全部值皆為111的陣列 [[[111 111 111 111]\n",
      "  [111 111 111 111]\n",
      "  [111 111 111 111]]\n",
      "\n",
      " [[111 111 111 111]\n",
      "  [111 111 111 111]\n",
      "  [111 111 111 111]]]\n"
     ]
    }
   ],
   "source": [
    "# 製作陣列維陣列\n",
    "arr1 = np.zeros(3, dtype=int)\n",
    "arr2 = np.ones([2,3], dtype=float)\n",
    "arr3 = np.empty([2,3])\n",
    "arr4 = np.full([2,3,4], 111)\n",
    "print('長度為3，所有值皆為0的整數陣列', arr1)\n",
    "print('建立一個2X3，全部值皆為1的小數陣列', arr2)\n",
    "print('建立一個2X3，無初始值陣列', arr3)\n",
    "print('建立一個2X3X4，全部值皆為111的陣列',arr4)"
   ]
  },
  {
   "cell_type": "code",
   "execution_count": 12,
   "id": "e3e8dc7a",
   "metadata": {},
   "outputs": [
    {
     "name": "stdout",
     "output_type": "stream",
     "text": [
      "建立一個2X3，全部值皆為[0, 1)區間內隨機數的陣列\n",
      "建立一個1X2X3，全部值皆為[3, 10)區間內隨機整數的陣列\n"
     ]
    }
   ],
   "source": [
    "arr5 = np.random.rand(2, 3)\n",
    "arr6 = np.random.randint(low=3, high=10, size=(1, 2, 3), dtype=int)\n",
    "print('建立一個2X3，全部值皆為[0, 1)區間內隨機數的陣列')\n",
    "print('建立一個1X2X3，全部值皆為[3, 10)區間內隨機整數的陣列')"
   ]
  },
  {
   "cell_type": "code",
   "execution_count": 13,
   "id": "5b0c05ea",
   "metadata": {},
   "outputs": [
    {
     "name": "stdout",
     "output_type": "stream",
     "text": [
      "arr1維度 1\n",
      "arr2維度 2\n",
      "arr4維度 3\n",
      "arr6維度 3\n",
      "arr1 Shape (3,)\n",
      "arr2 Shape (2, 3)\n",
      "arr4 Shape (2, 3, 4)\n",
      "arr6 Shape (1, 2, 3)\n",
      "arr1 Size 3\n",
      "arr2 Size 6\n",
      "arr4 Size 24\n",
      "arr6 Size 6\n"
     ]
    }
   ],
   "source": [
    "# 陣列屬性\n",
    "print('arr1維度', arr1.ndim)\n",
    "print('arr2維度', arr2.ndim)\n",
    "print('arr4維度', arr4.ndim)\n",
    "print('arr6維度', arr6.ndim)\n",
    "\n",
    "print('arr1 Shape', arr1.shape)\n",
    "print('arr2 Shape', arr2.shape)\n",
    "print('arr4 Shape', arr4.shape)\n",
    "print('arr6 Shape', arr6.shape)\n",
    "\n",
    "print('arr1 Size', arr1.size)\n",
    "print('arr2 Size', arr2.size)\n",
    "print('arr4 Size', arr4.size)\n",
    "print('arr6 Size', arr6.size)"
   ]
  },
  {
   "cell_type": "code",
   "execution_count": 14,
   "id": "593bacb8",
   "metadata": {},
   "outputs": [
    {
     "data": {
      "text/plain": [
       "array([[[111, 111, 111, 111],\n",
       "        [111, 111, 111, 111],\n",
       "        [111, 111, 111, 111]],\n",
       "\n",
       "       [[111, 111, 111, 111],\n",
       "        [111, 111, 111, 111],\n",
       "        [111, 111, 111, 111]]])"
      ]
     },
     "execution_count": 14,
     "metadata": {},
     "output_type": "execute_result"
    }
   ],
   "source": [
    "# Reshape\n",
    "arr4"
   ]
  },
  {
   "cell_type": "code",
   "execution_count": 15,
   "id": "a4f2c52d",
   "metadata": {},
   "outputs": [
    {
     "data": {
      "text/plain": [
       "array([[111, 111, 111, 111, 111, 111, 111, 111, 111, 111, 111, 111],\n",
       "       [111, 111, 111, 111, 111, 111, 111, 111, 111, 111, 111, 111]])"
      ]
     },
     "execution_count": 15,
     "metadata": {},
     "output_type": "execute_result"
    }
   ],
   "source": [
    "arr4.reshape([2, 12])"
   ]
  },
  {
   "cell_type": "code",
   "execution_count": 16,
   "id": "a2f962ee",
   "metadata": {},
   "outputs": [
    {
     "data": {
      "text/plain": [
       "array([[111, 111, 111, 111],\n",
       "       [111, 111, 111, 111],\n",
       "       [111, 111, 111, 111],\n",
       "       [111, 111, 111, 111],\n",
       "       [111, 111, 111, 111],\n",
       "       [111, 111, 111, 111]])"
      ]
     },
     "execution_count": 16,
     "metadata": {},
     "output_type": "execute_result"
    }
   ],
   "source": [
    "arr4.reshape([-1, 4])"
   ]
  },
  {
   "cell_type": "code",
   "execution_count": 17,
   "id": "6ae6a78f",
   "metadata": {},
   "outputs": [
    {
     "ename": "ValueError",
     "evalue": "cannot reshape array of size 24 into shape (1,1)",
     "output_type": "error",
     "traceback": [
      "\u001b[0;31m---------------------------------------------------------------------------\u001b[0m",
      "\u001b[0;31mValueError\u001b[0m                                Traceback (most recent call last)",
      "Input \u001b[0;32mIn [17]\u001b[0m, in \u001b[0;36m<cell line: 1>\u001b[0;34m()\u001b[0m\n\u001b[0;32m----> 1\u001b[0m \u001b[43marr4\u001b[49m\u001b[38;5;241;43m.\u001b[39;49m\u001b[43mreshape\u001b[49m\u001b[43m(\u001b[49m\u001b[43m[\u001b[49m\u001b[38;5;241;43m1\u001b[39;49m\u001b[43m,\u001b[49m\u001b[43m \u001b[49m\u001b[38;5;241;43m1\u001b[39;49m\u001b[43m]\u001b[49m\u001b[43m)\u001b[49m\n",
      "\u001b[0;31mValueError\u001b[0m: cannot reshape array of size 24 into shape (1,1)"
     ]
    }
   ],
   "source": [
    "arr4.reshape([1, 1])"
   ]
  },
  {
   "cell_type": "code",
   "execution_count": null,
   "id": "d8d12184",
   "metadata": {},
   "outputs": [],
   "source": []
  }
 ],
 "metadata": {
  "kernelspec": {
   "display_name": "Python 3 (ipykernel)",
   "language": "python",
   "name": "python3"
  },
  "language_info": {
   "codemirror_mode": {
    "name": "ipython",
    "version": 3
   },
   "file_extension": ".py",
   "mimetype": "text/x-python",
   "name": "python",
   "nbconvert_exporter": "python",
   "pygments_lexer": "ipython3",
   "version": "3.8.2"
  }
 },
 "nbformat": 4,
 "nbformat_minor": 5
}
