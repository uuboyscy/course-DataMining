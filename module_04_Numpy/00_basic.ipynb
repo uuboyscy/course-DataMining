{
 "cells": [
  {
   "cell_type": "code",
   "execution_count": 1,
   "id": "c5008a82",
   "metadata": {},
   "outputs": [],
   "source": [
    "import numpy as np"
   ]
  },
  {
   "cell_type": "markdown",
   "id": "d5927f3c",
   "metadata": {},
   "source": [
    "### Generate array"
   ]
  },
  {
   "cell_type": "code",
   "execution_count": 2,
   "id": "4be7352f",
   "metadata": {},
   "outputs": [
    {
     "data": {
      "text/plain": [
       "array([0., 0., 0., 0., 0.])"
      ]
     },
     "execution_count": 2,
     "metadata": {},
     "output_type": "execute_result"
    }
   ],
   "source": [
    "np.zeros(5)"
   ]
  },
  {
   "cell_type": "code",
   "execution_count": 3,
   "id": "977bbfaa",
   "metadata": {},
   "outputs": [
    {
     "data": {
      "text/plain": [
       "array([[0, 0, 0],\n",
       "       [0, 0, 0]])"
      ]
     },
     "execution_count": 3,
     "metadata": {},
     "output_type": "execute_result"
    }
   ],
   "source": [
    "np.zeros(shape=(2, 3), dtype='int')"
   ]
  },
  {
   "cell_type": "code",
   "execution_count": 4,
   "id": "8c37d981",
   "metadata": {},
   "outputs": [
    {
     "data": {
      "text/plain": [
       "array([1., 1., 1., 1., 1.])"
      ]
     },
     "execution_count": 4,
     "metadata": {},
     "output_type": "execute_result"
    }
   ],
   "source": [
    "np.ones(5)"
   ]
  },
  {
   "cell_type": "code",
   "execution_count": 5,
   "id": "45f0d9fa",
   "metadata": {},
   "outputs": [
    {
     "data": {
      "text/plain": [
       "array([[1., 1., 1., 1.],\n",
       "       [1., 1., 1., 1.],\n",
       "       [1., 1., 1., 1.]])"
      ]
     },
     "execution_count": 5,
     "metadata": {},
     "output_type": "execute_result"
    }
   ],
   "source": [
    "np.ones(shape=(3, 4), dtype='float')"
   ]
  },
  {
   "cell_type": "code",
   "execution_count": 6,
   "id": "f8e53d87",
   "metadata": {},
   "outputs": [
    {
     "data": {
      "text/plain": [
       "array([1., 1., 1., 1., 1.])"
      ]
     },
     "execution_count": 6,
     "metadata": {},
     "output_type": "execute_result"
    }
   ],
   "source": [
    "np.empty(5)"
   ]
  },
  {
   "cell_type": "code",
   "execution_count": 7,
   "id": "4c42bf0c",
   "metadata": {},
   "outputs": [
    {
     "data": {
      "text/plain": [
       "array([[0, 0, 0, 0, 0, 0],\n",
       "       [0, 0, 0, 0, 0, 0],\n",
       "       [0, 0, 0, 0, 0, 0],\n",
       "       [0, 0, 0, 0, 0, 0],\n",
       "       [0, 0, 0, 0, 0, 0]])"
      ]
     },
     "execution_count": 7,
     "metadata": {},
     "output_type": "execute_result"
    }
   ],
   "source": [
    "np.empty(shape=(5, 6), dtype='int')"
   ]
  },
  {
   "cell_type": "code",
   "execution_count": 8,
   "id": "c13041e1",
   "metadata": {},
   "outputs": [
    {
     "data": {
      "text/plain": [
       "array([[0., 0., 0., 0., 0., 0.],\n",
       "       [0., 0., 0., 0., 0., 0.],\n",
       "       [0., 0., 0., 0., 0., 0.],\n",
       "       [0., 0., 0., 0., 0., 0.],\n",
       "       [0., 0., 0., 0., 0., 0.]])"
      ]
     },
     "execution_count": 8,
     "metadata": {},
     "output_type": "execute_result"
    }
   ],
   "source": [
    "np.empty(shape=(5, 6))"
   ]
  },
  {
   "cell_type": "code",
   "execution_count": 9,
   "id": "7090dbb6",
   "metadata": {},
   "outputs": [
    {
     "data": {
      "text/plain": [
       "array([[0.7962592 , 0.99959508, 0.42110129],\n",
       "       [0.18872453, 0.88037157, 0.7097713 ]])"
      ]
     },
     "execution_count": 9,
     "metadata": {},
     "output_type": "execute_result"
    }
   ],
   "source": [
    "np.random.rand(2, 3)"
   ]
  },
  {
   "cell_type": "code",
   "execution_count": 10,
   "id": "1f16de3d",
   "metadata": {},
   "outputs": [
    {
     "data": {
      "text/plain": [
       "array([[[4, 9, 9],\n",
       "        [4, 9, 3]]])"
      ]
     },
     "execution_count": 10,
     "metadata": {},
     "output_type": "execute_result"
    }
   ],
   "source": [
    "np.random.randint(low=3, high=10, size=(1, 2, 3), dtype=int)"
   ]
  },
  {
   "cell_type": "code",
   "execution_count": 11,
   "id": "9a67b0fc",
   "metadata": {},
   "outputs": [
    {
     "name": "stdout",
     "output_type": "stream",
     "text": [
      "長度為3，所有值皆為0的整數陣列 [0 0 0]\n",
      "建立一個2X3，全部值皆為1的小數陣列 [[1. 1. 1.]\n",
      " [1. 1. 1.]]\n",
      "建立一個2X3，無初始值陣列 [[0.7962592  0.99959508 0.42110129]\n",
      " [0.18872453 0.88037157 0.7097713 ]]\n",
      "建立一個2X3X4，全部值皆為111的陣列 [[[111 111 111 111]\n",
      "  [111 111 111 111]\n",
      "  [111 111 111 111]]\n",
      "\n",
      " [[111 111 111 111]\n",
      "  [111 111 111 111]\n",
      "  [111 111 111 111]]]\n"
     ]
    }
   ],
   "source": [
    "# 製作陣列維陣列\n",
    "arr1 = np.zeros(3, dtype=int)\n",
    "arr2 = np.ones([2,3], dtype=float)\n",
    "arr3 = np.empty([2,3])\n",
    "arr4 = np.full([2,3,4], 111)\n",
    "print('長度為3，所有值皆為0的整數陣列', arr1)\n",
    "print('建立一個2X3，全部值皆為1的小數陣列', arr2)\n",
    "print('建立一個2X3，無初始值陣列', arr3)\n",
    "print('建立一個2X3X4，全部值皆為111的陣列',arr4)"
   ]
  },
  {
   "cell_type": "code",
   "execution_count": 12,
   "id": "24800ac4",
   "metadata": {},
   "outputs": [
    {
     "name": "stdout",
     "output_type": "stream",
     "text": [
      "建立一個2X3，全部值皆為[0, 1)區間內隨機數的陣列\n",
      "建立一個1X2X3，全部值皆為[3, 10)區間內隨機整數的陣列\n"
     ]
    }
   ],
   "source": [
    "arr5 = np.random.rand(2, 3)\n",
    "arr6 = np.random.randint(low=3, high=10, size=(1, 2, 3), dtype=int)\n",
    "print('建立一個2X3，全部值皆為[0, 1)區間內隨機數的陣列')\n",
    "print('建立一個1X2X3，全部值皆為[3, 10)區間內隨機整數的陣列')"
   ]
  },
  {
   "cell_type": "markdown",
   "id": "27ce7f52",
   "metadata": {},
   "source": [
    "### Attribute of array"
   ]
  },
  {
   "cell_type": "code",
   "execution_count": 13,
   "id": "5b0c05ea",
   "metadata": {},
   "outputs": [
    {
     "name": "stdout",
     "output_type": "stream",
     "text": [
      "arr1維度 1\n",
      "arr2維度 2\n",
      "arr4維度 3\n",
      "arr6維度 3\n",
      "arr1 Shape (3,)\n",
      "arr2 Shape (2, 3)\n",
      "arr4 Shape (2, 3, 4)\n",
      "arr6 Shape (1, 2, 3)\n",
      "arr1 Size 3\n",
      "arr2 Size 6\n",
      "arr4 Size 24\n",
      "arr6 Size 6\n"
     ]
    }
   ],
   "source": [
    "# 陣列屬性\n",
    "print('arr1維度', arr1.ndim)\n",
    "print('arr2維度', arr2.ndim)\n",
    "print('arr4維度', arr4.ndim)\n",
    "print('arr6維度', arr6.ndim)\n",
    "\n",
    "print('arr1 Shape', arr1.shape)\n",
    "print('arr2 Shape', arr2.shape)\n",
    "print('arr4 Shape', arr4.shape)\n",
    "print('arr6 Shape', arr6.shape)\n",
    "\n",
    "print('arr1 Size', arr1.size)\n",
    "print('arr2 Size', arr2.size)\n",
    "print('arr4 Size', arr4.size)\n",
    "print('arr6 Size', arr6.size)"
   ]
  },
  {
   "cell_type": "code",
   "execution_count": 14,
   "id": "cfe6aea3",
   "metadata": {},
   "outputs": [
    {
     "data": {
      "text/plain": [
       "array([[[111, 111, 111, 111],\n",
       "        [111, 111, 111, 111],\n",
       "        [111, 111, 111, 111]],\n",
       "\n",
       "       [[111, 111, 111, 111],\n",
       "        [111, 111, 111, 111],\n",
       "        [111, 111, 111, 111]]])"
      ]
     },
     "execution_count": 14,
     "metadata": {},
     "output_type": "execute_result"
    }
   ],
   "source": [
    "# Reshape\n",
    "arr4"
   ]
  },
  {
   "cell_type": "code",
   "execution_count": 15,
   "id": "b188a358",
   "metadata": {},
   "outputs": [
    {
     "data": {
      "text/plain": [
       "array([[111, 111, 111, 111, 111, 111, 111, 111, 111, 111, 111, 111],\n",
       "       [111, 111, 111, 111, 111, 111, 111, 111, 111, 111, 111, 111]])"
      ]
     },
     "execution_count": 15,
     "metadata": {},
     "output_type": "execute_result"
    }
   ],
   "source": [
    "arr4.reshape([2, 12])"
   ]
  },
  {
   "cell_type": "code",
   "execution_count": 16,
   "id": "00f57094",
   "metadata": {},
   "outputs": [
    {
     "data": {
      "text/plain": [
       "array([[111, 111, 111, 111],\n",
       "       [111, 111, 111, 111],\n",
       "       [111, 111, 111, 111],\n",
       "       [111, 111, 111, 111],\n",
       "       [111, 111, 111, 111],\n",
       "       [111, 111, 111, 111]])"
      ]
     },
     "execution_count": 16,
     "metadata": {},
     "output_type": "execute_result"
    }
   ],
   "source": [
    "arr4.reshape([-1, 4])"
   ]
  },
  {
   "cell_type": "code",
   "execution_count": 17,
   "id": "9fb4394b",
   "metadata": {},
   "outputs": [
    {
     "ename": "ValueError",
     "evalue": "cannot reshape array of size 24 into shape (1,1)",
     "output_type": "error",
     "traceback": [
      "\u001b[0;31m---------------------------------------------------------------------------\u001b[0m",
      "\u001b[0;31mValueError\u001b[0m                                Traceback (most recent call last)",
      "Input \u001b[0;32mIn [17]\u001b[0m, in \u001b[0;36m<cell line: 1>\u001b[0;34m()\u001b[0m\n\u001b[0;32m----> 1\u001b[0m \u001b[43marr4\u001b[49m\u001b[38;5;241;43m.\u001b[39;49m\u001b[43mreshape\u001b[49m\u001b[43m(\u001b[49m\u001b[43m[\u001b[49m\u001b[38;5;241;43m1\u001b[39;49m\u001b[43m,\u001b[49m\u001b[43m \u001b[49m\u001b[38;5;241;43m1\u001b[39;49m\u001b[43m]\u001b[49m\u001b[43m)\u001b[49m\n",
      "\u001b[0;31mValueError\u001b[0m: cannot reshape array of size 24 into shape (1,1)"
     ]
    }
   ],
   "source": [
    "arr4.reshape([1, 1])"
   ]
  },
  {
   "cell_type": "markdown",
   "id": "4b534512",
   "metadata": {},
   "source": [
    "### statistics"
   ]
  },
  {
   "cell_type": "code",
   "execution_count": 18,
   "id": "f39c6178",
   "metadata": {},
   "outputs": [
    {
     "name": "stdout",
     "output_type": "stream",
     "text": [
      "平均 3.5\n",
      "最大值 6\n",
      "最小值 1\n",
      "中位數 3.5\n"
     ]
    }
   ],
   "source": [
    "tmparray = np.array([1, 2, 3, 4, 5, 6])\n",
    "\n",
    "print(\"平均\", tmparray.mean())\n",
    "print(\"最大值\", tmparray.max())\n",
    "print(\"最小值\", tmparray.min())\n",
    "print(\"中位數\", np.median(tmparray))"
   ]
  },
  {
   "cell_type": "code",
   "execution_count": 19,
   "id": "e2203c13",
   "metadata": {},
   "outputs": [
    {
     "name": "stdout",
     "output_type": "stream",
     "text": [
      "第 10 百分位數 1.5\n",
      "第 80 百分位數 5.0\n",
      "第 50 百分位數 3.5\n"
     ]
    }
   ],
   "source": [
    "# 百分位數\n",
    "\n",
    "print(\"第 10 百分位數\", np.percentile(tmparray, 10))\n",
    "print(\"第 80 百分位數\", np.percentile(tmparray, 80))\n",
    "print(\"第 50 百分位數\", np.percentile(tmparray, 50))  # 中位數"
   ]
  },
  {
   "cell_type": "code",
   "execution_count": 20,
   "id": "c903d374",
   "metadata": {},
   "outputs": [
    {
     "name": "stdout",
     "output_type": "stream",
     "text": [
      "第 1 四分位數 2.25\n",
      "第 2 四分位數 3.5\n",
      "第 3 四分位數 4.75\n"
     ]
    }
   ],
   "source": [
    "# 四分位數\n",
    "\n",
    "print(\"第 1 四分位數\", np.percentile(tmparray, 25))\n",
    "print(\"第 2 四分位數\", np.percentile(tmparray, 50))\n",
    "print(\"第 3 四分位數\", np.percentile(tmparray, 75))"
   ]
  },
  {
   "cell_type": "code",
   "execution_count": 21,
   "id": "27668b2f",
   "metadata": {},
   "outputs": [
    {
     "name": "stdout",
     "output_type": "stream",
     "text": [
      "第 1 四分位數 3\n",
      "第 2 四分位數 4\n",
      "第 3 四分位數 5\n"
     ]
    }
   ],
   "source": [
    "print(\"第 1 四分位數\", np.percentile(tmparray, 25, method=\"higher\"))\n",
    "print(\"第 2 四分位數\", np.percentile(tmparray, 50, method=\"higher\"))\n",
    "print(\"第 3 四分位數\", np.percentile(tmparray, 75, method=\"higher\"))"
   ]
  },
  {
   "cell_type": "code",
   "execution_count": null,
   "id": "5179bc55",
   "metadata": {},
   "outputs": [],
   "source": []
  }
 ],
 "metadata": {
  "kernelspec": {
   "display_name": "Python 3 (ipykernel)",
   "language": "python",
   "name": "python3"
  },
  "language_info": {
   "codemirror_mode": {
    "name": "ipython",
    "version": 3
   },
   "file_extension": ".py",
   "mimetype": "text/x-python",
   "name": "python",
   "nbconvert_exporter": "python",
   "pygments_lexer": "ipython3",
   "version": "3.8.2"
  }
 },
 "nbformat": 4,
 "nbformat_minor": 5
}
