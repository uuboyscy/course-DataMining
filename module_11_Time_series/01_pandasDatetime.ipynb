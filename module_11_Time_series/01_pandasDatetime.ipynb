{
 "cells": [
  {
   "cell_type": "code",
   "execution_count": 1,
   "id": "a5d6cd9b",
   "metadata": {},
   "outputs": [],
   "source": [
    "import pandas as pd"
   ]
  },
  {
   "cell_type": "code",
   "execution_count": 2,
   "id": "f0d6b507",
   "metadata": {},
   "outputs": [
    {
     "data": {
      "text/html": [
       "<div>\n",
       "<style scoped>\n",
       "    .dataframe tbody tr th:only-of-type {\n",
       "        vertical-align: middle;\n",
       "    }\n",
       "\n",
       "    .dataframe tbody tr th {\n",
       "        vertical-align: top;\n",
       "    }\n",
       "\n",
       "    .dataframe thead th {\n",
       "        text-align: right;\n",
       "    }\n",
       "</style>\n",
       "<table border=\"1\" class=\"dataframe\">\n",
       "  <thead>\n",
       "    <tr style=\"text-align: right;\">\n",
       "      <th></th>\n",
       "      <th>ID</th>\n",
       "      <th>Level</th>\n",
       "      <th>UpdateDate</th>\n",
       "    </tr>\n",
       "  </thead>\n",
       "  <tbody>\n",
       "    <tr>\n",
       "      <th>0</th>\n",
       "      <td>1</td>\n",
       "      <td>A</td>\n",
       "      <td>2019-08-09</td>\n",
       "    </tr>\n",
       "    <tr>\n",
       "      <th>1</th>\n",
       "      <td>1</td>\n",
       "      <td>S</td>\n",
       "      <td>2020-12-08</td>\n",
       "    </tr>\n",
       "    <tr>\n",
       "      <th>2</th>\n",
       "      <td>2</td>\n",
       "      <td>A</td>\n",
       "      <td>2021-05-30</td>\n",
       "    </tr>\n",
       "    <tr>\n",
       "      <th>3</th>\n",
       "      <td>3</td>\n",
       "      <td>A</td>\n",
       "      <td>2018-03-26</td>\n",
       "    </tr>\n",
       "    <tr>\n",
       "      <th>4</th>\n",
       "      <td>3</td>\n",
       "      <td>S</td>\n",
       "      <td>2020-12-08</td>\n",
       "    </tr>\n",
       "    <tr>\n",
       "      <th>5</th>\n",
       "      <td>4</td>\n",
       "      <td>A</td>\n",
       "      <td>2022-05-02</td>\n",
       "    </tr>\n",
       "    <tr>\n",
       "      <th>6</th>\n",
       "      <td>5</td>\n",
       "      <td>A</td>\n",
       "      <td>2019-11-05</td>\n",
       "    </tr>\n",
       "    <tr>\n",
       "      <th>7</th>\n",
       "      <td>5</td>\n",
       "      <td>S</td>\n",
       "      <td>2022-04-25</td>\n",
       "    </tr>\n",
       "    <tr>\n",
       "      <th>8</th>\n",
       "      <td>6</td>\n",
       "      <td>A</td>\n",
       "      <td>2022-03-03</td>\n",
       "    </tr>\n",
       "    <tr>\n",
       "      <th>9</th>\n",
       "      <td>7</td>\n",
       "      <td>A</td>\n",
       "      <td>2017-03-29</td>\n",
       "    </tr>\n",
       "    <tr>\n",
       "      <th>10</th>\n",
       "      <td>7</td>\n",
       "      <td>S</td>\n",
       "      <td>2018-05-02</td>\n",
       "    </tr>\n",
       "    <tr>\n",
       "      <th>11</th>\n",
       "      <td>7</td>\n",
       "      <td>M</td>\n",
       "      <td>2021-09-01</td>\n",
       "    </tr>\n",
       "    <tr>\n",
       "      <th>12</th>\n",
       "      <td>8</td>\n",
       "      <td>A</td>\n",
       "      <td>2018-11-26</td>\n",
       "    </tr>\n",
       "    <tr>\n",
       "      <th>13</th>\n",
       "      <td>8</td>\n",
       "      <td>S</td>\n",
       "      <td>2020-03-15</td>\n",
       "    </tr>\n",
       "    <tr>\n",
       "      <th>14</th>\n",
       "      <td>8</td>\n",
       "      <td>M</td>\n",
       "      <td>2022-05-03</td>\n",
       "    </tr>\n",
       "  </tbody>\n",
       "</table>\n",
       "</div>"
      ],
      "text/plain": [
       "    ID Level  UpdateDate\n",
       "0    1     A  2019-08-09\n",
       "1    1     S  2020-12-08\n",
       "2    2     A  2021-05-30\n",
       "3    3     A  2018-03-26\n",
       "4    3     S  2020-12-08\n",
       "5    4     A  2022-05-02\n",
       "6    5     A  2019-11-05\n",
       "7    5     S  2022-04-25\n",
       "8    6     A  2022-03-03\n",
       "9    7     A  2017-03-29\n",
       "10   7     S  2018-05-02\n",
       "11   7     M  2021-09-01\n",
       "12   8     A  2018-11-26\n",
       "13   8     S  2020-03-15\n",
       "14   8     M  2022-05-03"
      ]
     },
     "execution_count": 2,
     "metadata": {},
     "output_type": "execute_result"
    }
   ],
   "source": [
    "filename = \"staff_detail.csv\"\n",
    "df = pd.read_csv(filename)\n",
    "df"
   ]
  },
  {
   "cell_type": "code",
   "execution_count": 3,
   "id": "313649ea",
   "metadata": {},
   "outputs": [
    {
     "data": {
      "text/plain": [
       "0     2019-08-09\n",
       "1     2020-12-08\n",
       "2     2021-05-30\n",
       "3     2018-03-26\n",
       "4     2020-12-08\n",
       "5     2022-05-02\n",
       "6     2019-11-05\n",
       "7     2022-04-25\n",
       "8     2022-03-03\n",
       "9     2017-03-29\n",
       "10    2018-05-02\n",
       "11    2021-09-01\n",
       "12    2018-11-26\n",
       "13    2020-03-15\n",
       "14    2022-05-03\n",
       "Name: UpdateDate, dtype: object"
      ]
     },
     "execution_count": 3,
     "metadata": {},
     "output_type": "execute_result"
    }
   ],
   "source": [
    "# Get Series\n",
    "df.UpdateDate"
   ]
  },
  {
   "cell_type": "code",
   "execution_count": 4,
   "id": "ea8b5e93",
   "metadata": {},
   "outputs": [
    {
     "data": {
      "text/plain": [
       "0    2019-08-09\n",
       "1    2020-12-08\n",
       "2    2021-05-30\n",
       "3    2018-03-26\n",
       "4    2020-12-08\n",
       "5    2022-05-02\n",
       "6    2019-11-05\n",
       "7    2022-04-25\n",
       "8    2022-03-03\n",
       "9    2017-03-29\n",
       "10   2018-05-02\n",
       "11   2021-09-01\n",
       "12   2018-11-26\n",
       "13   2020-03-15\n",
       "14   2022-05-03\n",
       "Name: UpdateDate, dtype: datetime64[ns]"
      ]
     },
     "execution_count": 4,
     "metadata": {},
     "output_type": "execute_result"
    }
   ],
   "source": [
    "# Convert datetime-format-string to pandas' Datetime\n",
    "pd.to_datetime(df.UpdateDate)"
   ]
  },
  {
   "cell_type": "code",
   "execution_count": 5,
   "id": "6413b45d",
   "metadata": {},
   "outputs": [
    {
     "data": {
      "text/plain": [
       "0    2019-08-09\n",
       "1    2020-12-08\n",
       "2    2021-05-30\n",
       "3    2018-03-26\n",
       "4    2020-12-08\n",
       "5    2022-05-02\n",
       "6    2019-11-05\n",
       "7    2022-04-25\n",
       "8    2022-03-03\n",
       "9    2017-03-29\n",
       "10   2018-05-02\n",
       "11   2021-09-01\n",
       "12   2018-11-26\n",
       "13   2020-03-15\n",
       "14   2022-05-03\n",
       "Name: UpdateDate, dtype: datetime64[ns]"
      ]
     },
     "execution_count": 5,
     "metadata": {},
     "output_type": "execute_result"
    }
   ],
   "source": [
    "pd.to_datetime(df.UpdateDate)"
   ]
  },
  {
   "cell_type": "code",
   "execution_count": 6,
   "id": "6ac0a745",
   "metadata": {},
   "outputs": [
    {
     "data": {
      "text/plain": [
       "Timestamp('2019-08-09 00:00:00+0200', tz='Europe/Berlin')"
      ]
     },
     "execution_count": 6,
     "metadata": {},
     "output_type": "execute_result"
    }
   ],
   "source": [
    "pd.to_datetime(df.UpdateDate)[0].tz_localize(\"Europe/Berlin\")"
   ]
  },
  {
   "cell_type": "code",
   "execution_count": 7,
   "id": "7afeea02",
   "metadata": {},
   "outputs": [
    {
     "data": {
      "text/plain": [
       "Timestamp('2019-08-09 00:00:00+0100', tz='Europe/London')"
      ]
     },
     "execution_count": 7,
     "metadata": {},
     "output_type": "execute_result"
    }
   ],
   "source": [
    "pd.to_datetime(df.UpdateDate)[0].tz_localize(\"Europe/London\")"
   ]
  },
  {
   "cell_type": "code",
   "execution_count": 8,
   "id": "56dd73b6",
   "metadata": {},
   "outputs": [
    {
     "data": {
      "text/plain": [
       "Timestamp('2019-08-09 08:00:00+0900', tz='Asia/Tokyo')"
      ]
     },
     "execution_count": 8,
     "metadata": {},
     "output_type": "execute_result"
    }
   ],
   "source": [
    "pd.to_datetime(df.UpdateDate)[0].tz_localize(\"Europe/London\").tz_convert(\"Asia/Tokyo\")"
   ]
  },
  {
   "cell_type": "code",
   "execution_count": 9,
   "id": "38c4b6a8",
   "metadata": {},
   "outputs": [
    {
     "data": {
      "text/plain": [
       "Timestamp('2019-08-09 00:00:00+0900', tz='Asia/Tokyo')"
      ]
     },
     "execution_count": 9,
     "metadata": {},
     "output_type": "execute_result"
    }
   ],
   "source": [
    "pd.to_datetime(df.UpdateDate)[0].tz_localize(\"Asia/Tokyo\")"
   ]
  },
  {
   "cell_type": "code",
   "execution_count": 10,
   "id": "9917cec3",
   "metadata": {},
   "outputs": [
    {
     "data": {
      "text/plain": [
       "Timestamp('2019-08-09 00:00:00-0500', tz='US/Central')"
      ]
     },
     "execution_count": 10,
     "metadata": {},
     "output_type": "execute_result"
    }
   ],
   "source": [
    "pd.to_datetime(df.UpdateDate)[0].tz_localize(\"US/Central\")"
   ]
  },
  {
   "cell_type": "code",
   "execution_count": 11,
   "id": "c80404bd",
   "metadata": {},
   "outputs": [
    {
     "data": {
      "text/plain": [
       "0"
      ]
     },
     "execution_count": 11,
     "metadata": {},
     "output_type": "execute_result"
    }
   ],
   "source": [
    "pd.to_datetime(df.UpdateDate)[0].tz_localize(\"US/Central\").hour"
   ]
  },
  {
   "cell_type": "code",
   "execution_count": 12,
   "id": "28e946fc",
   "metadata": {},
   "outputs": [],
   "source": [
    "converted_dt = pd.to_datetime(df.UpdateDate)[0].tz_localize(\"US/Central\")"
   ]
  },
  {
   "cell_type": "code",
   "execution_count": 13,
   "id": "e51ff7a2",
   "metadata": {},
   "outputs": [
    {
     "data": {
      "text/plain": [
       "Timestamp('2019-08-09 00:00:00-0500', tz='US/Central')"
      ]
     },
     "execution_count": 13,
     "metadata": {},
     "output_type": "execute_result"
    }
   ],
   "source": [
    "converted_dt"
   ]
  },
  {
   "cell_type": "code",
   "execution_count": 14,
   "id": "8222be67",
   "metadata": {},
   "outputs": [
    {
     "data": {
      "text/plain": [
       "numpy.datetime64('2019-08-09T05:00:00.000000000')"
      ]
     },
     "execution_count": 14,
     "metadata": {},
     "output_type": "execute_result"
    }
   ],
   "source": [
    "converted_dt.asm8"
   ]
  },
  {
   "cell_type": "code",
   "execution_count": 15,
   "id": "75a8f527",
   "metadata": {},
   "outputs": [
    {
     "data": {
      "text/plain": [
       "5"
      ]
     },
     "execution_count": 15,
     "metadata": {},
     "output_type": "execute_result"
    }
   ],
   "source": [
    "pd.to_datetime(converted_dt.asm8).hour"
   ]
  },
  {
   "cell_type": "code",
   "execution_count": null,
   "id": "0d11c38d",
   "metadata": {},
   "outputs": [],
   "source": []
  }
 ],
 "metadata": {
  "kernelspec": {
   "display_name": "Python 3 (ipykernel)",
   "language": "python",
   "name": "python3"
  },
  "language_info": {
   "codemirror_mode": {
    "name": "ipython",
    "version": 3
   },
   "file_extension": ".py",
   "mimetype": "text/x-python",
   "name": "python",
   "nbconvert_exporter": "python",
   "pygments_lexer": "ipython3",
   "version": "3.8.2"
  }
 },
 "nbformat": 4,
 "nbformat_minor": 5
}
